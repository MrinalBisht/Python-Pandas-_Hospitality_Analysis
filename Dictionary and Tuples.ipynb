{
 "cells": [
  {
   "cell_type": "code",
   "execution_count": 5,
   "id": "ce568d44",
   "metadata": {},
   "outputs": [],
   "source": [
    "point = (7, 9)"
   ]
  },
  {
   "cell_type": "code",
   "execution_count": 6,
   "id": "e6abe60f",
   "metadata": {},
   "outputs": [
    {
     "data": {
      "text/plain": [
       "7"
      ]
     },
     "execution_count": 6,
     "metadata": {},
     "output_type": "execute_result"
    }
   ],
   "source": [
    "point [0]  # tuples are fixed / immutable you can't change their values once fixed"
   ]
  },
  {
   "cell_type": "code",
   "execution_count": 11,
   "id": "470de3a1",
   "metadata": {},
   "outputs": [],
   "source": [
    "def find_pe_and_pb(price, eps, book_value):\n",
    "    pe = price/eps\n",
    "    pb = price/book_value\n",
    "    return pe, pb # this or (pe, pb) returns tuples"
   ]
  },
  {
   "cell_type": "code",
   "execution_count": 17,
   "id": "2c5b682c",
   "metadata": {},
   "outputs": [],
   "source": [
    "pe_ratio, pb_ratio = find_pe_and_pb(100, 5, 4)"
   ]
  },
  {
   "cell_type": "code",
   "execution_count": 18,
   "id": "d459eeee",
   "metadata": {},
   "outputs": [
    {
     "data": {
      "text/plain": [
       "20.0"
      ]
     },
     "execution_count": 18,
     "metadata": {},
     "output_type": "execute_result"
    }
   ],
   "source": [
    "pe_ratio"
   ]
  },
  {
   "cell_type": "code",
   "execution_count": 19,
   "id": "9117be26",
   "metadata": {},
   "outputs": [
    {
     "data": {
      "text/plain": [
       "25.0"
      ]
     },
     "execution_count": 19,
     "metadata": {},
     "output_type": "execute_result"
    }
   ],
   "source": [
    "pb_ratio"
   ]
  },
  {
   "cell_type": "code",
   "execution_count": 24,
   "id": "3fd4ebf1",
   "metadata": {},
   "outputs": [],
   "source": [
    "contacts = [('sheldon', 8575485967), ('leonard', 7841595748), ('penny', 8745878485)]"
   ]
  },
  {
   "cell_type": "code",
   "execution_count": 25,
   "id": "d66fdca3",
   "metadata": {},
   "outputs": [
    {
     "name": "stdout",
     "output_type": "stream",
     "text": [
      "7841595748\n"
     ]
    }
   ],
   "source": [
    "for contact in contacts:\n",
    "    if contact[0] == 'leonard':\n",
    "        print(contact[1])"
   ]
  },
  {
   "cell_type": "code",
   "execution_count": 29,
   "id": "58d598b5",
   "metadata": {},
   "outputs": [
    {
     "data": {
      "text/plain": [
       "{'sheldon': 8575485967, 'leonard': 7841595748, 'penny': 8745878485}"
      ]
     },
     "execution_count": 29,
     "metadata": {},
     "output_type": "execute_result"
    }
   ],
   "source": [
    "d = {\n",
    "    'sheldon': 8575485967,\n",
    "    'leonard': 7841595748,\n",
    "    'penny': 8745878485 \n",
    "} \n",
    "d                                 # {} define dictionary and it comes in key value pair "
   ]
  },
  {
   "cell_type": "code",
   "execution_count": 32,
   "id": "537275ab",
   "metadata": {},
   "outputs": [
    {
     "data": {
      "text/plain": [
       "7841595748"
      ]
     },
     "execution_count": 32,
     "metadata": {},
     "output_type": "execute_result"
    }
   ],
   "source": [
    "d ['leonard']"
   ]
  },
  {
   "cell_type": "code",
   "execution_count": 34,
   "id": "1b4f5188",
   "metadata": {},
   "outputs": [
    {
     "data": {
      "text/plain": [
       "8575485967"
      ]
     },
     "execution_count": 34,
     "metadata": {},
     "output_type": "execute_result"
    }
   ],
   "source": [
    "d.get('sheldon')"
   ]
  },
  {
   "cell_type": "code",
   "execution_count": 36,
   "id": "87fb649e",
   "metadata": {},
   "outputs": [
    {
     "data": {
      "text/plain": [
       "0"
      ]
     },
     "execution_count": 36,
     "metadata": {},
     "output_type": "execute_result"
    }
   ],
   "source": [
    "d.get('bb',0)"
   ]
  },
  {
   "cell_type": "code",
   "execution_count": 37,
   "id": "74c4cdc6",
   "metadata": {},
   "outputs": [
    {
     "data": {
      "text/plain": [
       "8745878485"
      ]
     },
     "execution_count": 37,
     "metadata": {},
     "output_type": "execute_result"
    }
   ],
   "source": [
    "d['penny']"
   ]
  },
  {
   "cell_type": "code",
   "execution_count": 39,
   "id": "ab723a8b",
   "metadata": {},
   "outputs": [
    {
     "data": {
      "text/plain": [
       "{'sheldon': 8575485967, 'leonard': 7841595748, 'penny': 8564785145}"
      ]
     },
     "execution_count": 39,
     "metadata": {},
     "output_type": "execute_result"
    }
   ],
   "source": [
    "d['penny'] = 8564785145\n",
    "d"
   ]
  },
  {
   "cell_type": "code",
   "execution_count": 40,
   "id": "7b21017a",
   "metadata": {},
   "outputs": [
    {
     "data": {
      "text/plain": [
       "{'sheldon': 8575485967,\n",
       " 'leonard': 7841595748,\n",
       " 'penny': 8564785145,\n",
       " 'howard': 9578456523}"
      ]
     },
     "execution_count": 40,
     "metadata": {},
     "output_type": "execute_result"
    }
   ],
   "source": [
    "d['howard'] = 9578456523\n",
    "d"
   ]
  },
  {
   "cell_type": "code",
   "execution_count": 41,
   "id": "db213c7c",
   "metadata": {},
   "outputs": [
    {
     "data": {
      "text/plain": [
       "{'sheldon': 8575485967, 'leonard': 7841595748, 'penny': 8564785145}"
      ]
     },
     "execution_count": 41,
     "metadata": {},
     "output_type": "execute_result"
    }
   ],
   "source": [
    "del d['howard']\n",
    "d"
   ]
  },
  {
   "cell_type": "code",
   "execution_count": 42,
   "id": "c64ac95e",
   "metadata": {},
   "outputs": [
    {
     "data": {
      "text/plain": [
       "False"
      ]
     },
     "execution_count": 42,
     "metadata": {},
     "output_type": "execute_result"
    }
   ],
   "source": [
    "'satyam' in d"
   ]
  },
  {
   "cell_type": "code",
   "execution_count": 43,
   "id": "74d1ce86",
   "metadata": {},
   "outputs": [
    {
     "data": {
      "text/plain": [
       "True"
      ]
     },
     "execution_count": 43,
     "metadata": {},
     "output_type": "execute_result"
    }
   ],
   "source": [
    "'penny' in d"
   ]
  },
  {
   "cell_type": "code",
   "execution_count": 49,
   "id": "87222c28",
   "metadata": {},
   "outputs": [
    {
     "data": {
      "text/plain": [
       "{'ronaldo': {'phone': 7845956525, 'address': 'portugal/spain/Italy'},\n",
       " 'messi': {'phone': 4578984595, 'address': 'argentina/spain/usa'}}"
      ]
     },
     "execution_count": 49,
     "metadata": {},
     "output_type": "execute_result"
    }
   ],
   "source": [
    "f = {\n",
    "    \n",
    "    'ronaldo': { 'phone':7845956525, 'address': 'portugal/spain/Italy' },\n",
    "    'messi': { 'phone':4578984595, 'address': 'argentina/spain/usa' }\n",
    "}\n",
    "f"
   ]
  },
  {
   "cell_type": "code",
   "execution_count": 51,
   "id": "65ac0b28",
   "metadata": {},
   "outputs": [
    {
     "data": {
      "text/plain": [
       "7845956525"
      ]
     },
     "execution_count": 51,
     "metadata": {},
     "output_type": "execute_result"
    }
   ],
   "source": [
    "f['ronaldo']['phone']"
   ]
  },
  {
   "cell_type": "code",
   "execution_count": 58,
   "id": "e732f9a2",
   "metadata": {},
   "outputs": [
    {
     "data": {
      "text/plain": [
       "{'sheldon': 8575485967, 'leonard': 7841595748, 'penny': 8745878485}"
      ]
     },
     "execution_count": 58,
     "metadata": {},
     "output_type": "execute_result"
    }
   ],
   "source": [
    "d = {\n",
    "    'sheldon': 8575485967,\n",
    "    'leonard': 7841595748,\n",
    "    'penny': 8745878485 \n",
    "} \n",
    "d   "
   ]
  },
  {
   "cell_type": "code",
   "execution_count": 66,
   "id": "15174cc9",
   "metadata": {},
   "outputs": [
    {
     "name": "stdout",
     "output_type": "stream",
     "text": [
      "sheldon 8575485967\n",
      "leonard 7841595748\n",
      "penny 8745878485\n"
     ]
    }
   ],
   "source": [
    "for name in d:\n",
    "    print(name, d[name])\n"
   ]
  },
  {
   "cell_type": "code",
   "execution_count": 67,
   "id": "e64a2023",
   "metadata": {},
   "outputs": [
    {
     "name": "stdout",
     "output_type": "stream",
     "text": [
      "sheldon 8575485967\n",
      "leonard 7841595748\n",
      "penny 8745878485\n"
     ]
    }
   ],
   "source": [
    "for name, number in d.items():\n",
    "    print(name, number)"
   ]
  },
  {
   "cell_type": "code",
   "execution_count": 68,
   "id": "00f44103",
   "metadata": {},
   "outputs": [
    {
     "data": {
      "text/plain": [
       "['__class__',\n",
       " '__class_getitem__',\n",
       " '__contains__',\n",
       " '__delattr__',\n",
       " '__delitem__',\n",
       " '__dir__',\n",
       " '__doc__',\n",
       " '__eq__',\n",
       " '__format__',\n",
       " '__ge__',\n",
       " '__getattribute__',\n",
       " '__getitem__',\n",
       " '__getstate__',\n",
       " '__gt__',\n",
       " '__hash__',\n",
       " '__init__',\n",
       " '__init_subclass__',\n",
       " '__ior__',\n",
       " '__iter__',\n",
       " '__le__',\n",
       " '__len__',\n",
       " '__lt__',\n",
       " '__ne__',\n",
       " '__new__',\n",
       " '__or__',\n",
       " '__reduce__',\n",
       " '__reduce_ex__',\n",
       " '__repr__',\n",
       " '__reversed__',\n",
       " '__ror__',\n",
       " '__setattr__',\n",
       " '__setitem__',\n",
       " '__sizeof__',\n",
       " '__str__',\n",
       " '__subclasshook__',\n",
       " 'clear',\n",
       " 'copy',\n",
       " 'fromkeys',\n",
       " 'get',\n",
       " 'items',\n",
       " 'keys',\n",
       " 'pop',\n",
       " 'popitem',\n",
       " 'setdefault',\n",
       " 'update',\n",
       " 'values']"
      ]
     },
     "execution_count": 68,
     "metadata": {},
     "output_type": "execute_result"
    }
   ],
   "source": [
    "dir(d)"
   ]
  },
  {
   "cell_type": "code",
   "execution_count": 69,
   "id": "85c2d1e6",
   "metadata": {},
   "outputs": [
    {
     "data": {
      "text/plain": [
       "{'sheldon': 8575485967, 'leonard': 7841595748, 'penny': 8745878485}"
      ]
     },
     "execution_count": 69,
     "metadata": {},
     "output_type": "execute_result"
    }
   ],
   "source": [
    "d"
   ]
  },
  {
   "cell_type": "code",
   "execution_count": 77,
   "id": "3a07c73e",
   "metadata": {},
   "outputs": [
    {
     "data": {
      "text/plain": [
       "dict_keys(['sheldon', 'leonard', 'penny'])"
      ]
     },
     "execution_count": 77,
     "metadata": {},
     "output_type": "execute_result"
    }
   ],
   "source": [
    "d.keys()"
   ]
  },
  {
   "cell_type": "code",
   "execution_count": 79,
   "id": "c31318ee",
   "metadata": {},
   "outputs": [
    {
     "data": {
      "text/plain": [
       "['sheldon', 'leonard', 'penny']"
      ]
     },
     "execution_count": 79,
     "metadata": {},
     "output_type": "execute_result"
    }
   ],
   "source": [
    "list(d.keys())"
   ]
  },
  {
   "cell_type": "code",
   "execution_count": 80,
   "id": "25f0dd20",
   "metadata": {},
   "outputs": [
    {
     "data": {
      "text/plain": [
       "dict_values([8575485967, 7841595748, 8745878485])"
      ]
     },
     "execution_count": 80,
     "metadata": {},
     "output_type": "execute_result"
    }
   ],
   "source": [
    "d.values()"
   ]
  },
  {
   "cell_type": "code",
   "execution_count": null,
   "id": "41af3ade",
   "metadata": {},
   "outputs": [],
   "source": []
  },
  {
   "cell_type": "code",
   "execution_count": null,
   "id": "f68a2228",
   "metadata": {},
   "outputs": [],
   "source": []
  }
 ],
 "metadata": {
  "kernelspec": {
   "display_name": "Python 3 (ipykernel)",
   "language": "python",
   "name": "python3"
  },
  "language_info": {
   "codemirror_mode": {
    "name": "ipython",
    "version": 3
   },
   "file_extension": ".py",
   "mimetype": "text/x-python",
   "name": "python",
   "nbconvert_exporter": "python",
   "pygments_lexer": "ipython3",
   "version": "3.11.3"
  }
 },
 "nbformat": 4,
 "nbformat_minor": 5
}
