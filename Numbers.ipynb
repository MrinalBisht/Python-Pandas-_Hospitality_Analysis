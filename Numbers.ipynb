{
 "cells": [
  {
   "cell_type": "code",
   "execution_count": 14,
   "id": "464358b8",
   "metadata": {},
   "outputs": [],
   "source": [
    "base = 10.5\n",
    "height = 8"
   ]
  },
  {
   "cell_type": "code",
   "execution_count": 16,
   "id": "3c50ea57",
   "metadata": {},
   "outputs": [
    {
     "data": {
      "text/plain": [
       "42.0"
      ]
     },
     "execution_count": 16,
     "metadata": {},
     "output_type": "execute_result"
    }
   ],
   "source": [
    "area = (1/2) * base * height\n",
    "area"
   ]
  },
  {
   "cell_type": "code",
   "execution_count": 18,
   "id": "1cd372dc",
   "metadata": {},
   "outputs": [
    {
     "data": {
      "text/plain": [
       "float"
      ]
     },
     "execution_count": 18,
     "metadata": {},
     "output_type": "execute_result"
    }
   ],
   "source": [
    "type(area)"
   ]
  },
  {
   "cell_type": "code",
   "execution_count": 20,
   "id": "864d6db2",
   "metadata": {},
   "outputs": [
    {
     "data": {
      "text/plain": [
       "5"
      ]
     },
     "execution_count": 20,
     "metadata": {},
     "output_type": "execute_result"
    }
   ],
   "source": [
    "1+4"
   ]
  },
  {
   "cell_type": "code",
   "execution_count": 23,
   "id": "9f0719c5",
   "metadata": {},
   "outputs": [
    {
     "data": {
      "text/plain": [
       "3.3333333333333335"
      ]
     },
     "execution_count": 23,
     "metadata": {},
     "output_type": "execute_result"
    }
   ],
   "source": [
    "10/3"
   ]
  },
  {
   "cell_type": "code",
   "execution_count": 24,
   "id": "984531ca",
   "metadata": {},
   "outputs": [
    {
     "data": {
      "text/plain": [
       "3"
      ]
     },
     "execution_count": 24,
     "metadata": {},
     "output_type": "execute_result"
    }
   ],
   "source": [
    "10//3"
   ]
  },
  {
   "cell_type": "code",
   "execution_count": 26,
   "id": "d5971143",
   "metadata": {},
   "outputs": [
    {
     "data": {
      "text/plain": [
       "2"
      ]
     },
     "execution_count": 26,
     "metadata": {},
     "output_type": "execute_result"
    }
   ],
   "source": [
    "17%3"
   ]
  },
  {
   "cell_type": "code",
   "execution_count": 29,
   "id": "5a0fa807",
   "metadata": {},
   "outputs": [
    {
     "data": {
      "text/plain": [
       "125"
      ]
     },
     "execution_count": 29,
     "metadata": {},
     "output_type": "execute_result"
    }
   ],
   "source": [
    "5**3"
   ]
  },
  {
   "cell_type": "code",
   "execution_count": 31,
   "id": "05e0797b",
   "metadata": {},
   "outputs": [
    {
     "data": {
      "text/plain": [
       "16"
      ]
     },
     "execution_count": 31,
     "metadata": {},
     "output_type": "execute_result"
    }
   ],
   "source": [
    "10+(2*3)"
   ]
  },
  {
   "cell_type": "code",
   "execution_count": 32,
   "id": "b360265b",
   "metadata": {},
   "outputs": [
    {
     "data": {
      "text/plain": [
       "36"
      ]
     },
     "execution_count": 32,
     "metadata": {},
     "output_type": "execute_result"
    }
   ],
   "source": [
    "(10+2)*3\n"
   ]
  },
  {
   "cell_type": "code",
   "execution_count": 36,
   "id": "eb93ea26",
   "metadata": {},
   "outputs": [
    {
     "data": {
      "text/plain": [
       "23000.0"
      ]
     },
     "execution_count": 36,
     "metadata": {},
     "output_type": "execute_result"
    }
   ],
   "source": [
    "foo = 2.3e4\n",
    "foo"
   ]
  },
  {
   "cell_type": "code",
   "execution_count": 40,
   "id": "3a8d8f96",
   "metadata": {},
   "outputs": [
    {
     "data": {
      "text/plain": [
       "10000.0"
      ]
     },
     "execution_count": 40,
     "metadata": {},
     "output_type": "execute_result"
    }
   ],
   "source": [
    "1e4"
   ]
  },
  {
   "cell_type": "code",
   "execution_count": 48,
   "id": "e6371e2f",
   "metadata": {},
   "outputs": [
    {
     "data": {
      "text/plain": [
       "0.0023"
      ]
     },
     "execution_count": 48,
     "metadata": {},
     "output_type": "execute_result"
    }
   ],
   "source": [
    "bar=2.3e-3\n",
    "bar"
   ]
  },
  {
   "cell_type": "code",
   "execution_count": 56,
   "id": "ff0ca148",
   "metadata": {},
   "outputs": [],
   "source": [
    "food=10000.80\n",
    "rent=20000.25\n",
    "utilities=25000.5"
   ]
  },
  {
   "cell_type": "code",
   "execution_count": 59,
   "id": "db185aa8",
   "metadata": {},
   "outputs": [
    {
     "data": {
      "text/plain": [
       "55001.55"
      ]
     },
     "execution_count": 59,
     "metadata": {},
     "output_type": "execute_result"
    }
   ],
   "source": [
    "total=food+rent+utilities\n",
    "total"
   ]
  },
  {
   "cell_type": "code",
   "execution_count": 60,
   "id": "4c8a958c",
   "metadata": {},
   "outputs": [
    {
     "data": {
      "text/plain": [
       "55002"
      ]
     },
     "execution_count": 60,
     "metadata": {},
     "output_type": "execute_result"
    }
   ],
   "source": [
    "round(total)"
   ]
  },
  {
   "cell_type": "code",
   "execution_count": 62,
   "id": "9d5aca31",
   "metadata": {},
   "outputs": [
    {
     "data": {
      "text/plain": [
       "10000"
      ]
     },
     "execution_count": 62,
     "metadata": {},
     "output_type": "execute_result"
    }
   ],
   "source": [
    "income=50000\n",
    "expenses=40000\n",
    "savings=income-expenses\n",
    "savings"
   ]
  },
  {
   "cell_type": "code",
   "execution_count": 64,
   "id": "fb8deb6e",
   "metadata": {},
   "outputs": [
    {
     "data": {
      "text/plain": [
       "'101'"
      ]
     },
     "execution_count": 64,
     "metadata": {},
     "output_type": "execute_result"
    }
   ],
   "source": [
    "format(5,'b')"
   ]
  },
  {
   "cell_type": "code",
   "execution_count": 67,
   "id": "f1498774",
   "metadata": {},
   "outputs": [
    {
     "data": {
      "text/plain": [
       "'221'"
      ]
     },
     "execution_count": 67,
     "metadata": {},
     "output_type": "execute_result"
    }
   ],
   "source": [
    "format(145,'o')"
   ]
  },
  {
   "cell_type": "code",
   "execution_count": 40,
   "id": "3e6d5808",
   "metadata": {},
   "outputs": [
    {
     "data": {
      "text/plain": [
       "22155.84"
      ]
     },
     "execution_count": 40,
     "metadata": {},
     "output_type": "execute_result"
    }
   ],
   "source": [
    "r=84\n",
    "area=3.14*84**2\n",
    "area"
   ]
  },
  {
   "cell_type": "code",
   "execution_count": 41,
   "id": "83a2b23c",
   "metadata": {},
   "outputs": [
    {
     "data": {
      "text/plain": [
       "31018.176"
      ]
     },
     "execution_count": 41,
     "metadata": {},
     "output_type": "execute_result"
    }
   ],
   "source": [
    "sq=1.4\n",
    "total_water=sq*area\n",
    "total_water"
   ]
  },
  {
   "cell_type": "code",
   "execution_count": 22,
   "id": "df98baab",
   "metadata": {},
   "outputs": [],
   "source": [
    "round(total_water)"
   ]
  },
  {
   "cell_type": "code",
   "execution_count": 26,
   "id": "984a52e5",
   "metadata": {},
   "outputs": [],
   "source": [
    "d=490\n",
    "t=7*60\n",
    "s=d/t\n",
    "round(s)"
   ]
  },
  {
   "cell_type": "code",
   "execution_count": 38,
   "id": "d7338b4c",
   "metadata": {},
   "outputs": [
    {
     "data": {
      "text/plain": [
       "'soda'"
      ]
     },
     "execution_count": 38,
     "metadata": {},
     "output_type": "execute_result"
    }
   ],
   "source": [
    "can1=\"soda\"\n",
    "can1\n"
   ]
  },
  {
   "cell_type": "code",
   "execution_count": 39,
   "id": "0ec6de11",
   "metadata": {},
   "outputs": [
    {
     "data": {
      "text/plain": [
       "'soda'"
      ]
     },
     "execution_count": 39,
     "metadata": {},
     "output_type": "execute_result"
    }
   ],
   "source": [
    "can"
   ]
  },
  {
   "cell_type": "code",
   "execution_count": 40,
   "id": "2a1d2aa0",
   "metadata": {},
   "outputs": [],
   "source": [
    "can =\"beans\""
   ]
  },
  {
   "cell_type": "code",
   "execution_count": 41,
   "id": "d2645caa",
   "metadata": {},
   "outputs": [
    {
     "data": {
      "text/plain": [
       "'beans'"
      ]
     },
     "execution_count": 41,
     "metadata": {},
     "output_type": "execute_result"
    }
   ],
   "source": [
    "can"
   ]
  },
  {
   "cell_type": "code",
   "execution_count": 42,
   "id": "7ec440a6",
   "metadata": {},
   "outputs": [
    {
     "data": {
      "text/plain": [
       "str"
      ]
     },
     "execution_count": 42,
     "metadata": {},
     "output_type": "execute_result"
    }
   ],
   "source": [
    "type(can)"
   ]
  },
  {
   "cell_type": "code",
   "execution_count": 43,
   "id": "ae76f1d2",
   "metadata": {},
   "outputs": [],
   "source": [
    "first_name = \"Mrinal\"\n",
    "last_name = \"Bisht\""
   ]
  },
  {
   "cell_type": "code",
   "execution_count": 45,
   "id": "06a92767",
   "metadata": {},
   "outputs": [
    {
     "data": {
      "text/plain": [
       "str"
      ]
     },
     "execution_count": 45,
     "metadata": {},
     "output_type": "execute_result"
    }
   ],
   "source": [
    "type(first_name)"
   ]
  },
  {
   "cell_type": "code",
   "execution_count": 47,
   "id": "0e0498f6",
   "metadata": {},
   "outputs": [
    {
     "data": {
      "text/plain": [
       "100"
      ]
     },
     "execution_count": 47,
     "metadata": {},
     "output_type": "execute_result"
    }
   ],
   "source": [
    "pizza=100\n",
    "pizza"
   ]
  },
  {
   "cell_type": "code",
   "execution_count": 48,
   "id": "6d2c836e",
   "metadata": {},
   "outputs": [
    {
     "data": {
      "text/plain": [
       "int"
      ]
     },
     "execution_count": 48,
     "metadata": {},
     "output_type": "execute_result"
    }
   ],
   "source": [
    "type(pizza)"
   ]
  },
  {
   "cell_type": "code",
   "execution_count": 51,
   "id": "70af362d",
   "metadata": {},
   "outputs": [
    {
     "data": {
      "text/plain": [
       "25"
      ]
     },
     "execution_count": 51,
     "metadata": {},
     "output_type": "execute_result"
    }
   ],
   "source": [
    "samosa=25\n",
    "samosa"
   ]
  },
  {
   "cell_type": "code",
   "execution_count": 52,
   "id": "1b1899af",
   "metadata": {},
   "outputs": [
    {
     "data": {
      "text/plain": [
       "50.5"
      ]
     },
     "execution_count": 52,
     "metadata": {},
     "output_type": "execute_result"
    }
   ],
   "source": [
    "ice_cream=50.5\n",
    "ice_cream"
   ]
  },
  {
   "cell_type": "code",
   "execution_count": 53,
   "id": "e5017e7d",
   "metadata": {},
   "outputs": [
    {
     "data": {
      "text/plain": [
       "175.5"
      ]
     },
     "execution_count": 53,
     "metadata": {},
     "output_type": "execute_result"
    }
   ],
   "source": [
    "total = pizza + samosa + ice_cream\n",
    "total"
   ]
  },
  {
   "cell_type": "code",
   "execution_count": 54,
   "id": "59523a2e",
   "metadata": {},
   "outputs": [
    {
     "data": {
      "text/plain": [
       "float"
      ]
     },
     "execution_count": 54,
     "metadata": {},
     "output_type": "execute_result"
    }
   ],
   "source": [
    "type(total)"
   ]
  },
  {
   "cell_type": "code",
   "execution_count": 55,
   "id": "a39da7fc",
   "metadata": {},
   "outputs": [],
   "source": [
    "learn_python=True\n",
    "learn_fortan=False"
   ]
  },
  {
   "cell_type": "code",
   "execution_count": 56,
   "id": "8d740b1e",
   "metadata": {},
   "outputs": [
    {
     "data": {
      "text/plain": [
       "bool"
      ]
     },
     "execution_count": 56,
     "metadata": {},
     "output_type": "execute_result"
    }
   ],
   "source": [
    "type(learn_python)"
   ]
  },
  {
   "cell_type": "code",
   "execution_count": 69,
   "id": "b7e02d76",
   "metadata": {},
   "outputs": [
    {
     "data": {
      "text/plain": [
       "'jalebi'"
      ]
     },
     "execution_count": 69,
     "metadata": {},
     "output_type": "execute_result"
    }
   ],
   "source": [
    "food=\"jalebi\"\n",
    "food"
   ]
  },
  {
   "cell_type": "code",
   "execution_count": 70,
   "id": "5dd99b97",
   "metadata": {},
   "outputs": [
    {
     "data": {
      "text/plain": [
       "'jalebi'"
      ]
     },
     "execution_count": 70,
     "metadata": {},
     "output_type": "execute_result"
    }
   ],
   "source": [
    "bar=food\n",
    "bar"
   ]
  },
  {
   "cell_type": "code",
   "execution_count": 71,
   "id": "6a63d9d7",
   "metadata": {},
   "outputs": [
    {
     "data": {
      "text/plain": [
       "2258145932080"
      ]
     },
     "execution_count": 71,
     "metadata": {},
     "output_type": "execute_result"
    }
   ],
   "source": [
    "id(food)"
   ]
  },
  {
   "cell_type": "code",
   "execution_count": 78,
   "id": "490e6c74",
   "metadata": {},
   "outputs": [
    {
     "data": {
      "text/plain": [
       "'samosa'"
      ]
     },
     "execution_count": 78,
     "metadata": {},
     "output_type": "execute_result"
    }
   ],
   "source": [
    "bar = \"samosa\"\n",
    "bar"
   ]
  },
  {
   "cell_type": "code",
   "execution_count": 80,
   "id": "c1a15c0a",
   "metadata": {},
   "outputs": [
    {
     "data": {
      "text/plain": [
       "2258144823088"
      ]
     },
     "execution_count": 80,
     "metadata": {},
     "output_type": "execute_result"
    }
   ],
   "source": [
    "id(bar)"
   ]
  },
  {
   "cell_type": "code",
   "execution_count": null,
   "id": "6b440016",
   "metadata": {},
   "outputs": [],
   "source": []
  }
 ],
 "metadata": {
  "kernelspec": {
   "display_name": "Python 3 (ipykernel)",
   "language": "python",
   "name": "python3"
  },
  "language_info": {
   "codemirror_mode": {
    "name": "ipython",
    "version": 3
   },
   "file_extension": ".py",
   "mimetype": "text/x-python",
   "name": "python",
   "nbconvert_exporter": "python",
   "pygments_lexer": "ipython3",
   "version": "3.11.3"
  }
 },
 "nbformat": 4,
 "nbformat_minor": 5
}
