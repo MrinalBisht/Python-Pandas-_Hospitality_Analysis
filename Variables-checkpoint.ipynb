{
 "cells": [
  {
   "cell_type": "code",
   "execution_count": 3,
   "id": "96eeb239",
   "metadata": {},
   "outputs": [],
   "source": [
    "can=\"soda\""
   ]
  },
  {
   "cell_type": "code",
   "execution_count": 4,
   "id": "e34ecf03",
   "metadata": {},
   "outputs": [
    {
     "data": {
      "text/plain": [
       "'soda'"
      ]
     },
     "execution_count": 4,
     "metadata": {},
     "output_type": "execute_result"
    }
   ],
   "source": [
    "can"
   ]
  },
  {
   "cell_type": "code",
   "execution_count": 5,
   "id": "fd09b8b4",
   "metadata": {},
   "outputs": [],
   "source": [
    "life=\"suffering\""
   ]
  },
  {
   "cell_type": "code",
   "execution_count": 6,
   "id": "1b7fe13a",
   "metadata": {},
   "outputs": [
    {
     "data": {
      "text/plain": [
       "'suffering'"
      ]
     },
     "execution_count": 6,
     "metadata": {},
     "output_type": "execute_result"
    }
   ],
   "source": [
    "life"
   ]
  },
  {
   "cell_type": "code",
   "execution_count": 8,
   "id": "84855de1",
   "metadata": {},
   "outputs": [],
   "source": [
    "life=\"purpose\"\n"
   ]
  },
  {
   "cell_type": "code",
   "execution_count": 9,
   "id": "92d707a6",
   "metadata": {},
   "outputs": [
    {
     "data": {
      "text/plain": [
       "'purpose'"
      ]
     },
     "execution_count": 9,
     "metadata": {},
     "output_type": "execute_result"
    }
   ],
   "source": [
    "life"
   ]
  },
  {
   "cell_type": "code",
   "execution_count": 10,
   "id": "31881115",
   "metadata": {},
   "outputs": [],
   "source": [
    "life=\"fight\""
   ]
  },
  {
   "cell_type": "code",
   "execution_count": 11,
   "id": "65e6b3fd",
   "metadata": {},
   "outputs": [
    {
     "data": {
      "text/plain": [
       "'fight'"
      ]
     },
     "execution_count": 11,
     "metadata": {},
     "output_type": "execute_result"
    }
   ],
   "source": [
    "life\n"
   ]
  },
  {
   "cell_type": "code",
   "execution_count": 12,
   "id": "31c878a0",
   "metadata": {},
   "outputs": [],
   "source": [
    "we=\"all united\""
   ]
  },
  {
   "cell_type": "code",
   "execution_count": 13,
   "id": "735e2f9a",
   "metadata": {},
   "outputs": [
    {
     "data": {
      "text/plain": [
       "'all united'"
      ]
     },
     "execution_count": 13,
     "metadata": {},
     "output_type": "execute_result"
    }
   ],
   "source": [
    "we"
   ]
  },
  {
   "cell_type": "code",
   "execution_count": 14,
   "id": "37548c66",
   "metadata": {},
   "outputs": [
    {
     "data": {
      "text/plain": [
       "str"
      ]
     },
     "execution_count": 14,
     "metadata": {},
     "output_type": "execute_result"
    }
   ],
   "source": [
    "type(we)"
   ]
  },
  {
   "cell_type": "code",
   "execution_count": 16,
   "id": "cd341e4f",
   "metadata": {},
   "outputs": [],
   "source": [
    "first_name=\"Mrinal\"\n",
    "last_name=\"Bisht\""
   ]
  },
  {
   "cell_type": "code",
   "execution_count": 18,
   "id": "9a639d1e",
   "metadata": {},
   "outputs": [
    {
     "data": {
      "text/plain": [
       "str"
      ]
     },
     "execution_count": 18,
     "metadata": {},
     "output_type": "execute_result"
    }
   ],
   "source": [
    "type(first_name)"
   ]
  },
  {
   "cell_type": "code",
   "execution_count": 29,
   "id": "bef19e04",
   "metadata": {},
   "outputs": [],
   "source": [
    "pizza = 100"
   ]
  },
  {
   "cell_type": "code",
   "execution_count": 30,
   "id": "36080da6",
   "metadata": {},
   "outputs": [
    {
     "data": {
      "text/plain": [
       "100"
      ]
     },
     "execution_count": 30,
     "metadata": {},
     "output_type": "execute_result"
    }
   ],
   "source": [
    "pizza"
   ]
  },
  {
   "cell_type": "code",
   "execution_count": 23,
   "id": "066dbe80",
   "metadata": {
    "scrolled": true
   },
   "outputs": [
    {
     "data": {
      "text/plain": [
       "int"
      ]
     },
     "execution_count": 23,
     "metadata": {},
     "output_type": "execute_result"
    }
   ],
   "source": [
    "type(pizza)"
   ]
  },
  {
   "cell_type": "code",
   "execution_count": 25,
   "id": "3e652acf",
   "metadata": {},
   "outputs": [],
   "source": [
    "samosa=20.5"
   ]
  },
  {
   "cell_type": "code",
   "execution_count": 26,
   "id": "52afd242",
   "metadata": {},
   "outputs": [
    {
     "data": {
      "text/plain": [
       "20.5"
      ]
     },
     "execution_count": 26,
     "metadata": {},
     "output_type": "execute_result"
    }
   ],
   "source": [
    "samosa"
   ]
  },
  {
   "cell_type": "code",
   "execution_count": 27,
   "id": "4c013015",
   "metadata": {},
   "outputs": [
    {
     "data": {
      "text/plain": [
       "float"
      ]
     },
     "execution_count": 27,
     "metadata": {},
     "output_type": "execute_result"
    }
   ],
   "source": [
    "type(samosa)"
   ]
  },
  {
   "cell_type": "code",
   "execution_count": 31,
   "id": "6043e0b5",
   "metadata": {},
   "outputs": [],
   "source": [
    "ice_cream=40"
   ]
  },
  {
   "cell_type": "code",
   "execution_count": 32,
   "id": "66425c58",
   "metadata": {},
   "outputs": [
    {
     "data": {
      "text/plain": [
       "40"
      ]
     },
     "execution_count": 32,
     "metadata": {},
     "output_type": "execute_result"
    }
   ],
   "source": [
    "ice_cream"
   ]
  },
  {
   "cell_type": "code",
   "execution_count": 41,
   "id": "9a30871a",
   "metadata": {},
   "outputs": [
    {
     "data": {
      "text/plain": [
       "160.5"
      ]
     },
     "execution_count": 41,
     "metadata": {},
     "output_type": "execute_result"
    }
   ],
   "source": [
    "total = pizza + samosa + ice_cream\n",
    "total"
   ]
  },
  {
   "cell_type": "code",
   "execution_count": 42,
   "id": "ec4a9605",
   "metadata": {},
   "outputs": [
    {
     "data": {
      "text/plain": [
       "float"
      ]
     },
     "execution_count": 42,
     "metadata": {},
     "output_type": "execute_result"
    }
   ],
   "source": [
    "type(total)"
   ]
  },
  {
   "cell_type": "code",
   "execution_count": 46,
   "id": "da31f79b",
   "metadata": {},
   "outputs": [],
   "source": [
    "learn_python=True\n",
    "learn_fortran=False"
   ]
  },
  {
   "cell_type": "code",
   "execution_count": 49,
   "id": "1f536145",
   "metadata": {},
   "outputs": [
    {
     "data": {
      "text/plain": [
       "bool"
      ]
     },
     "execution_count": 49,
     "metadata": {},
     "output_type": "execute_result"
    }
   ],
   "source": [
    "type(learn_fortran)\n"
   ]
  },
  {
   "cell_type": "code",
   "execution_count": 53,
   "id": "ec6e9c9c",
   "metadata": {},
   "outputs": [
    {
     "data": {
      "text/plain": [
       "'jalebi'"
      ]
     },
     "execution_count": 53,
     "metadata": {},
     "output_type": "execute_result"
    }
   ],
   "source": [
    "foo = \"jalebi\"\n",
    "foo"
   ]
  },
  {
   "cell_type": "code",
   "execution_count": 56,
   "id": "d576c53e",
   "metadata": {},
   "outputs": [
    {
     "data": {
      "text/plain": [
       "'jalebi'"
      ]
     },
     "execution_count": 56,
     "metadata": {},
     "output_type": "execute_result"
    }
   ],
   "source": [
    "bar=foo\n",
    "bar"
   ]
  },
  {
   "cell_type": "code",
   "execution_count": 57,
   "id": "dfd71972",
   "metadata": {},
   "outputs": [
    {
     "data": {
      "text/plain": [
       "1578051743856"
      ]
     },
     "execution_count": 57,
     "metadata": {},
     "output_type": "execute_result"
    }
   ],
   "source": [
    "id(foo)"
   ]
  },
  {
   "cell_type": "code",
   "execution_count": 58,
   "id": "d087029d",
   "metadata": {},
   "outputs": [
    {
     "data": {
      "text/plain": [
       "1578051743856"
      ]
     },
     "execution_count": 58,
     "metadata": {},
     "output_type": "execute_result"
    }
   ],
   "source": [
    "id(bar)"
   ]
  },
  {
   "cell_type": "code",
   "execution_count": 60,
   "id": "b37b43eb",
   "metadata": {},
   "outputs": [
    {
     "data": {
      "text/plain": [
       "'samosa'"
      ]
     },
     "execution_count": 60,
     "metadata": {},
     "output_type": "execute_result"
    }
   ],
   "source": [
    "bar=\"samosa\"\n",
    "bar"
   ]
  },
  {
   "cell_type": "code",
   "execution_count": 61,
   "id": "40a29692",
   "metadata": {},
   "outputs": [
    {
     "data": {
      "text/plain": [
       "'jalebi'"
      ]
     },
     "execution_count": 61,
     "metadata": {},
     "output_type": "execute_result"
    }
   ],
   "source": [
    "foo"
   ]
  },
  {
   "cell_type": "code",
   "execution_count": 62,
   "id": "056d3ff9",
   "metadata": {},
   "outputs": [
    {
     "data": {
      "text/plain": [
       "1578045511472"
      ]
     },
     "execution_count": 62,
     "metadata": {},
     "output_type": "execute_result"
    }
   ],
   "source": [
    "id(bar)"
   ]
  },
  {
   "cell_type": "code",
   "execution_count": 63,
   "id": "e675415a",
   "metadata": {},
   "outputs": [],
   "source": [
    "pi=22/7"
   ]
  },
  {
   "cell_type": "code",
   "execution_count": 65,
   "id": "914f401b",
   "metadata": {},
   "outputs": [
    {
     "data": {
      "text/plain": [
       "float"
      ]
     },
     "execution_count": 65,
     "metadata": {},
     "output_type": "execute_result"
    }
   ],
   "source": [
    "type(pi)"
   ]
  },
  {
   "cell_type": "code",
   "execution_count": 80,
   "id": "39567ff9",
   "metadata": {},
   "outputs": [
    {
     "data": {
      "text/plain": [
       "4320.0"
      ]
     },
     "execution_count": 80,
     "metadata": {},
     "output_type": "execute_result"
    }
   ],
   "source": [
    "P=12000\n",
    "R=12\n",
    "T=3\n",
    "\n",
    "Simple_Interest=P*R*T/100\n",
    "Simple_Interest"
   ]
  },
  {
   "cell_type": "code",
   "execution_count": 82,
   "id": "9b613749",
   "metadata": {},
   "outputs": [
    {
     "data": {
      "text/plain": [
       "float"
      ]
     },
     "execution_count": 82,
     "metadata": {},
     "output_type": "execute_result"
    }
   ],
   "source": [
    "type(Simple_Interest)"
   ]
  },
  {
   "cell_type": "code",
   "execution_count": 79,
   "id": "7740ce55",
   "metadata": {},
   "outputs": [
    {
     "data": {
      "text/plain": [
       "4"
      ]
     },
     "execution_count": 79,
     "metadata": {},
     "output_type": "execute_result"
    }
   ],
   "source": [
    "for_=4\n",
    "for_"
   ]
  },
  {
   "cell_type": "code",
   "execution_count": 83,
   "id": "3b489395",
   "metadata": {},
   "outputs": [
    {
     "data": {
      "text/plain": [
       "25"
      ]
     },
     "execution_count": 83,
     "metadata": {},
     "output_type": "execute_result"
    }
   ],
   "source": [
    "a=5\n",
    "b=20\n",
    "a+b"
   ]
  },
  {
   "cell_type": "code",
   "execution_count": 7,
   "id": "5b22a61f",
   "metadata": {},
   "outputs": [],
   "source": [
    "Revision=\"variables revision\""
   ]
  },
  {
   "cell_type": "code",
   "execution_count": 6,
   "id": "1f378a36",
   "metadata": {},
   "outputs": [
    {
     "data": {
      "text/plain": [
       "'variables revision'"
      ]
     },
     "execution_count": 6,
     "metadata": {},
     "output_type": "execute_result"
    }
   ],
   "source": [
    "Revision"
   ]
  },
  {
   "cell_type": "code",
   "execution_count": 9,
   "id": "cfd07319",
   "metadata": {},
   "outputs": [
    {
     "data": {
      "text/plain": [
       "str"
      ]
     },
     "execution_count": 9,
     "metadata": {},
     "output_type": "execute_result"
    }
   ],
   "source": [
    "type(Revision)"
   ]
  },
  {
   "cell_type": "code",
   "execution_count": 11,
   "id": "8ade237a",
   "metadata": {},
   "outputs": [],
   "source": [
    "number=78"
   ]
  },
  {
   "cell_type": "code",
   "execution_count": 13,
   "id": "73d50ccc",
   "metadata": {},
   "outputs": [
    {
     "data": {
      "text/plain": [
       "int"
      ]
     },
     "execution_count": 13,
     "metadata": {},
     "output_type": "execute_result"
    }
   ],
   "source": [
    "type(number)"
   ]
  },
  {
   "cell_type": "code",
   "execution_count": 17,
   "id": "20141b42",
   "metadata": {},
   "outputs": [],
   "source": [
    "first_name = \"Mrinal\"\n",
    "last_name = \"Bisht\""
   ]
  },
  {
   "cell_type": "code",
   "execution_count": 18,
   "id": "c60c80ed",
   "metadata": {},
   "outputs": [
    {
     "data": {
      "text/plain": [
       "str"
      ]
     },
     "execution_count": 18,
     "metadata": {},
     "output_type": "execute_result"
    }
   ],
   "source": [
    "type(last_name)"
   ]
  },
  {
   "cell_type": "code",
   "execution_count": 19,
   "id": "ac643f93",
   "metadata": {},
   "outputs": [
    {
     "data": {
      "text/plain": [
       "'Mrinal'"
      ]
     },
     "execution_count": 19,
     "metadata": {},
     "output_type": "execute_result"
    }
   ],
   "source": [
    "first_name"
   ]
  },
  {
   "cell_type": "code",
   "execution_count": 21,
   "id": "c3f43fe6",
   "metadata": {},
   "outputs": [
    {
     "data": {
      "text/plain": [
       "150"
      ]
     },
     "execution_count": 21,
     "metadata": {},
     "output_type": "execute_result"
    }
   ],
   "source": [
    "pizza=150\n",
    "pizza"
   ]
  },
  {
   "cell_type": "code",
   "execution_count": 22,
   "id": "2b3cf93a",
   "metadata": {},
   "outputs": [
    {
     "data": {
      "text/plain": [
       "int"
      ]
     },
     "execution_count": 22,
     "metadata": {},
     "output_type": "execute_result"
    }
   ],
   "source": [
    "type(pizza)"
   ]
  },
  {
   "cell_type": "code",
   "execution_count": 23,
   "id": "a321d3b8",
   "metadata": {},
   "outputs": [
    {
     "data": {
      "text/plain": [
       "25.5"
      ]
     },
     "execution_count": 23,
     "metadata": {},
     "output_type": "execute_result"
    }
   ],
   "source": [
    "samosa=25.5\n",
    "samosa"
   ]
  },
  {
   "cell_type": "code",
   "execution_count": 24,
   "id": "28568e78",
   "metadata": {},
   "outputs": [
    {
     "data": {
      "text/plain": [
       "float"
      ]
     },
     "execution_count": 24,
     "metadata": {},
     "output_type": "execute_result"
    }
   ],
   "source": [
    "type(samosa)"
   ]
  },
  {
   "cell_type": "code",
   "execution_count": 28,
   "id": "41f8fd94",
   "metadata": {},
   "outputs": [
    {
     "data": {
      "text/plain": [
       "70"
      ]
     },
     "execution_count": 28,
     "metadata": {},
     "output_type": "execute_result"
    }
   ],
   "source": [
    "ice_cream = 70\n",
    "ice_cream"
   ]
  },
  {
   "cell_type": "code",
   "execution_count": 29,
   "id": "9c4f0cb8",
   "metadata": {},
   "outputs": [
    {
     "data": {
      "text/plain": [
       "int"
      ]
     },
     "execution_count": 29,
     "metadata": {},
     "output_type": "execute_result"
    }
   ],
   "source": [
    "type(ice_cream)"
   ]
  },
  {
   "cell_type": "code",
   "execution_count": 31,
   "id": "5145b4f4",
   "metadata": {},
   "outputs": [
    {
     "data": {
      "text/plain": [
       "245.5"
      ]
     },
     "execution_count": 31,
     "metadata": {},
     "output_type": "execute_result"
    }
   ],
   "source": [
    "total = samosa + pizza + ice_cream\n",
    "total"
   ]
  },
  {
   "cell_type": "code",
   "execution_count": 41,
   "id": "1d54b317",
   "metadata": {},
   "outputs": [],
   "source": [
    "learn_python=True\n",
    "learn_fortan=False"
   ]
  },
  {
   "cell_type": "code",
   "execution_count": 42,
   "id": "3ee69bd1",
   "metadata": {},
   "outputs": [
    {
     "data": {
      "text/plain": [
       "bool"
      ]
     },
     "execution_count": 42,
     "metadata": {},
     "output_type": "execute_result"
    }
   ],
   "source": [
    "type(learn_python)"
   ]
  },
  {
   "cell_type": "code",
   "execution_count": 44,
   "id": "40ff6c5b",
   "metadata": {},
   "outputs": [
    {
     "data": {
      "text/plain": [
       "'jalebi'"
      ]
     },
     "execution_count": 44,
     "metadata": {},
     "output_type": "execute_result"
    }
   ],
   "source": [
    "foo=\"jalebi\"\n",
    "foo"
   ]
  },
  {
   "cell_type": "code",
   "execution_count": 47,
   "id": "4fc85150",
   "metadata": {},
   "outputs": [
    {
     "data": {
      "text/plain": [
       "'jalebi'"
      ]
     },
     "execution_count": 47,
     "metadata": {},
     "output_type": "execute_result"
    }
   ],
   "source": [
    "bar=foo\n",
    "bar"
   ]
  },
  {
   "cell_type": "code",
   "execution_count": 48,
   "id": "9f9cbc66",
   "metadata": {},
   "outputs": [
    {
     "data": {
      "text/plain": [
       "1782569155952"
      ]
     },
     "execution_count": 48,
     "metadata": {},
     "output_type": "execute_result"
    }
   ],
   "source": [
    "id(foo)"
   ]
  },
  {
   "cell_type": "code",
   "execution_count": 49,
   "id": "c57bf6bb",
   "metadata": {},
   "outputs": [
    {
     "data": {
      "text/plain": [
       "1782569155952"
      ]
     },
     "execution_count": 49,
     "metadata": {},
     "output_type": "execute_result"
    }
   ],
   "source": [
    "id(bar)"
   ]
  },
  {
   "cell_type": "code",
   "execution_count": 51,
   "id": "7ae7108a",
   "metadata": {},
   "outputs": [
    {
     "data": {
      "text/plain": [
       "'samosa'"
      ]
     },
     "execution_count": 51,
     "metadata": {},
     "output_type": "execute_result"
    }
   ],
   "source": [
    "bar=\"samosa\"\n",
    "bar"
   ]
  },
  {
   "cell_type": "code",
   "execution_count": 52,
   "id": "858897dc",
   "metadata": {},
   "outputs": [
    {
     "data": {
      "text/plain": [
       "'jalebi'"
      ]
     },
     "execution_count": 52,
     "metadata": {},
     "output_type": "execute_result"
    }
   ],
   "source": [
    "foo"
   ]
  },
  {
   "cell_type": "code",
   "execution_count": 54,
   "id": "055ea799",
   "metadata": {},
   "outputs": [
    {
     "data": {
      "text/plain": [
       "1782540926000"
      ]
     },
     "execution_count": 54,
     "metadata": {},
     "output_type": "execute_result"
    }
   ],
   "source": [
    "id(bar)"
   ]
  },
  {
   "cell_type": "code",
   "execution_count": 65,
   "id": "ebba6d59",
   "metadata": {},
   "outputs": [],
   "source": [
    "_1995MB25=\"mrinal\""
   ]
  }
 ],
 "metadata": {
  "kernelspec": {
   "display_name": "Python 3 (ipykernel)",
   "language": "python",
   "name": "python3"
  },
  "language_info": {
   "codemirror_mode": {
    "name": "ipython",
    "version": 3
   },
   "file_extension": ".py",
   "mimetype": "text/x-python",
   "name": "python",
   "nbconvert_exporter": "python",
   "pygments_lexer": "ipython3",
   "version": "3.11.3"
  }
 },
 "nbformat": 4,
 "nbformat_minor": 5
}
